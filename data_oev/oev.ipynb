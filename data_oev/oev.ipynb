{
 "cells": [
  {
   "cell_type": "markdown",
   "metadata": {},
   "source": [
    "# Import geo-data of \"ÖV\" in Geneva using swisstopo API"
   ]
  },
  {
   "cell_type": "markdown",
   "metadata": {},
   "source": [
    "## Libraries and settings"
   ]
  },
  {
   "cell_type": "code",
   "execution_count": 1,
   "metadata": {},
   "outputs": [
    {
     "name": "stdout",
     "output_type": "stream",
     "text": [
      "/workspaces/project_arm_airbnb/data_oev\n"
     ]
    }
   ],
   "source": [
    "# Libraries\n",
    "import os\n",
    "import requests\n",
    "import json\n",
    "import folium\n",
    "from pandas import json_normalize\n",
    "\n",
    "# Ignore warnings\n",
    "import warnings\n",
    "warnings.filterwarnings(\"ignore\")\n",
    "\n",
    "# Show current working directory\n",
    "print(os.getcwd())"
   ]
  },
  {
   "cell_type": "markdown",
   "metadata": {},
   "source": [
    "## API request"
   ]
  },
  {
   "cell_type": "markdown",
   "metadata": {},
   "source": [
    "### Train stations"
   ]
  },
  {
   "cell_type": "code",
   "execution_count": 35,
   "metadata": {},
   "outputs": [
    {
     "name": "stdout",
     "output_type": "stream",
     "text": [
      "(3, 32)\n"
     ]
    },
    {
     "data": {
      "text/html": [
       "<div>\n",
       "<style scoped>\n",
       "    .dataframe tbody tr th:only-of-type {\n",
       "        vertical-align: middle;\n",
       "    }\n",
       "\n",
       "    .dataframe tbody tr th {\n",
       "        vertical-align: top;\n",
       "    }\n",
       "\n",
       "    .dataframe thead th {\n",
       "        text-align: right;\n",
       "    }\n",
       "</style>\n",
       "<table border=\"1\" class=\"dataframe\">\n",
       "  <thead>\n",
       "    <tr style=\"text-align: right;\">\n",
       "      <th></th>\n",
       "      <th>type</th>\n",
       "      <th>id</th>\n",
       "      <th>lat</th>\n",
       "      <th>lon</th>\n",
       "      <th>tags.addr:city</th>\n",
       "      <th>tags.alt_name</th>\n",
       "      <th>tags.ele</th>\n",
       "      <th>tags.internet_access</th>\n",
       "      <th>tags.internet_access:fee</th>\n",
       "      <th>tags.internet_access:operator</th>\n",
       "      <th>...</th>\n",
       "      <th>tags.operator</th>\n",
       "      <th>tags.public_transport</th>\n",
       "      <th>tags.railway</th>\n",
       "      <th>tags.railway:ref</th>\n",
       "      <th>tags.train</th>\n",
       "      <th>tags.uic_name</th>\n",
       "      <th>tags.uic_ref</th>\n",
       "      <th>tags.wheelchair</th>\n",
       "      <th>tags.wikidata</th>\n",
       "      <th>tags.wikipedia</th>\n",
       "    </tr>\n",
       "  </thead>\n",
       "  <tbody>\n",
       "    <tr>\n",
       "      <th>0</th>\n",
       "      <td>node</td>\n",
       "      <td>4890696636</td>\n",
       "      <td>46.210229</td>\n",
       "      <td>6.142622</td>\n",
       "      <td>Genève</td>\n",
       "      <td>Genève-Cornavin</td>\n",
       "      <td>392</td>\n",
       "      <td>wlan</td>\n",
       "      <td>no</td>\n",
       "      <td>SBB</td>\n",
       "      <td>...</td>\n",
       "      <td>CFF</td>\n",
       "      <td>station</td>\n",
       "      <td>station</td>\n",
       "      <td>GE</td>\n",
       "      <td>yes</td>\n",
       "      <td>Genève</td>\n",
       "      <td>8501008</td>\n",
       "      <td>yes</td>\n",
       "      <td>Q800819</td>\n",
       "      <td>fr:Gare de Genève-Cornavin</td>\n",
       "    </tr>\n",
       "    <tr>\n",
       "      <th>1</th>\n",
       "      <td>node</td>\n",
       "      <td>6044426066</td>\n",
       "      <td>46.200523</td>\n",
       "      <td>6.164821</td>\n",
       "      <td>NaN</td>\n",
       "      <td>NaN</td>\n",
       "      <td>NaN</td>\n",
       "      <td>NaN</td>\n",
       "      <td>NaN</td>\n",
       "      <td>NaN</td>\n",
       "      <td>...</td>\n",
       "      <td>SBB</td>\n",
       "      <td>station</td>\n",
       "      <td>station</td>\n",
       "      <td>GEV</td>\n",
       "      <td>yes</td>\n",
       "      <td>Genève-Eaux-Vives</td>\n",
       "      <td>8516273</td>\n",
       "      <td>NaN</td>\n",
       "      <td>Q3098155</td>\n",
       "      <td>fr:Gare de Genève-Eaux-Vives</td>\n",
       "    </tr>\n",
       "    <tr>\n",
       "      <th>2</th>\n",
       "      <td>node</td>\n",
       "      <td>6886690043</td>\n",
       "      <td>46.192484</td>\n",
       "      <td>6.153701</td>\n",
       "      <td>NaN</td>\n",
       "      <td>NaN</td>\n",
       "      <td>NaN</td>\n",
       "      <td>NaN</td>\n",
       "      <td>NaN</td>\n",
       "      <td>NaN</td>\n",
       "      <td>...</td>\n",
       "      <td>SBB</td>\n",
       "      <td>station</td>\n",
       "      <td>station</td>\n",
       "      <td>CHHO</td>\n",
       "      <td>yes</td>\n",
       "      <td>Genève-Champel</td>\n",
       "      <td>8516272</td>\n",
       "      <td>NaN</td>\n",
       "      <td>Q48610587</td>\n",
       "      <td>fr:Gare de Genève-Champel</td>\n",
       "    </tr>\n",
       "  </tbody>\n",
       "</table>\n",
       "<p>3 rows × 32 columns</p>\n",
       "</div>"
      ],
      "text/plain": [
       "   type          id        lat       lon tags.addr:city    tags.alt_name  \\\n",
       "0  node  4890696636  46.210229  6.142622         Genève  Genève-Cornavin   \n",
       "1  node  6044426066  46.200523  6.164821            NaN              NaN   \n",
       "2  node  6886690043  46.192484  6.153701            NaN              NaN   \n",
       "\n",
       "  tags.ele tags.internet_access tags.internet_access:fee  \\\n",
       "0      392                 wlan                       no   \n",
       "1      NaN                  NaN                      NaN   \n",
       "2      NaN                  NaN                      NaN   \n",
       "\n",
       "  tags.internet_access:operator  ... tags.operator tags.public_transport  \\\n",
       "0                           SBB  ...           CFF               station   \n",
       "1                           NaN  ...           SBB               station   \n",
       "2                           NaN  ...           SBB               station   \n",
       "\n",
       "  tags.railway tags.railway:ref tags.train      tags.uic_name tags.uic_ref  \\\n",
       "0      station               GE        yes             Genève      8501008   \n",
       "1      station              GEV        yes  Genève-Eaux-Vives      8516273   \n",
       "2      station             CHHO        yes     Genève-Champel      8516272   \n",
       "\n",
       "  tags.wheelchair tags.wikidata                tags.wikipedia  \n",
       "0             yes       Q800819    fr:Gare de Genève-Cornavin  \n",
       "1             NaN      Q3098155  fr:Gare de Genève-Eaux-Vives  \n",
       "2             NaN     Q48610587     fr:Gare de Genève-Champel  \n",
       "\n",
       "[3 rows x 32 columns]"
      ]
     },
     "execution_count": 35,
     "metadata": {},
     "output_type": "execute_result"
    }
   ],
   "source": [
    "# Overpass API URL\n",
    "url = 'http://overpass-api.de/api/interpreter'\n",
    "\n",
    "# Overpass turbo query\n",
    "query = f\"\"\"\n",
    "        [out:json];\n",
    "        area(id:3601685488);\n",
    "        node [\"railway\"=\"station\"](area);\n",
    "        out;\"\"\"\n",
    "\n",
    "# Web API request\n",
    "r = requests.get(url, params={'data': query})\n",
    "data = r.json()['elements']\n",
    "\n",
    "# Save data to file\n",
    "with open('station.json', 'w') as json_file:\n",
    "    json.dump(data, json_file)\n",
    "\n",
    "# Store data in data frame\n",
    "df = json_normalize(data)\n",
    "\n",
    "# Number of rows and columns\n",
    "print(df.shape)\n",
    "\n",
    "# First rows\n",
    "df.head()"
   ]
  },
  {
   "cell_type": "markdown",
   "metadata": {},
   "source": [
    "### Tram stops"
   ]
  },
  {
   "cell_type": "code",
   "execution_count": null,
   "metadata": {},
   "outputs": [
    {
     "name": "stdout",
     "output_type": "stream",
     "text": [
      "(0, 0)\n"
     ]
    },
    {
     "data": {
      "text/html": [
       "<div>\n",
       "<style scoped>\n",
       "    .dataframe tbody tr th:only-of-type {\n",
       "        vertical-align: middle;\n",
       "    }\n",
       "\n",
       "    .dataframe tbody tr th {\n",
       "        vertical-align: top;\n",
       "    }\n",
       "\n",
       "    .dataframe thead th {\n",
       "        text-align: right;\n",
       "    }\n",
       "</style>\n",
       "<table border=\"1\" class=\"dataframe\">\n",
       "  <thead>\n",
       "    <tr style=\"text-align: right;\">\n",
       "      <th></th>\n",
       "    </tr>\n",
       "  </thead>\n",
       "  <tbody>\n",
       "  </tbody>\n",
       "</table>\n",
       "</div>"
      ],
      "text/plain": [
       "Empty DataFrame\n",
       "Columns: []\n",
       "Index: []"
      ]
     },
     "execution_count": 39,
     "metadata": {},
     "output_type": "execute_result"
    }
   ],
   "source": [
    "# Overpass API URL\n",
    "url = 'http://overpass-api.de/api/interpreter'\n",
    "\n",
    "# Overpass turbo query\n",
    "query = f\"\"\"\n",
    "        [out:json];\n",
    "        area(id:3601685488);;\n",
    "        node [\"railway\"=\"tram_stop\"](area);\n",
    "        out;\"\"\"\n",
    "\n",
    "# Web API request\n",
    "r = requests.get(url, params={'data': query})\n",
    "data = r.json()['elements']\n",
    "\n",
    "# Save data to file\n",
    "with open('tram.json', 'w') as json_file:\n",
    "    json.dump(data, json_file)\n",
    "\n",
    "# Store data in data frame\n",
    "df = json_normalize(data)\n",
    "\n",
    "# Number of rows and columns\n",
    "print(df.shape)\n",
    "\n",
    "# First rows\n",
    "df.head()\n"
   ]
  },
  {
   "cell_type": "markdown",
   "metadata": {},
   "source": []
  }
 ],
 "metadata": {
  "kernelspec": {
   "display_name": "Python 3",
   "language": "python",
   "name": "python3"
  },
  "language_info": {
   "codemirror_mode": {
    "name": "ipython",
    "version": 3
   },
   "file_extension": ".py",
   "mimetype": "text/x-python",
   "name": "python",
   "nbconvert_exporter": "python",
   "pygments_lexer": "ipython3",
   "version": "3.11.10"
  }
 },
 "nbformat": 4,
 "nbformat_minor": 2
}
